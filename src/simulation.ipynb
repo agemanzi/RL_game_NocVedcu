{
 "cells": [
  {
   "cell_type": "code",
   "execution_count": 4,
   "id": "1f1e6808",
   "metadata": {},
   "outputs": [
    {
     "name": "stdout",
     "output_type": "stream",
     "text": [
      "Repo root: D:\\_repos\\RL_game_NocVedcu\n",
      "Config: D:\\_repos\\RL_game_NocVedcu\\data\\config.yaml\n",
      "CSV: D:\\_repos\\RL_game_NocVedcu\\data\\day01_prices_weather.csv\n"
     ]
    }
   ],
   "source": [
    "# Cell 1 — add repo to path (skip if you've done `pip install -e .`)\n",
    "import os, sys\n",
    "repo_root = r\"D:\\_repos\\RL_game_NocVedcu\"\n",
    "sys.path.insert(0, os.path.join(repo_root, \"src\"))\n",
    "\n",
    "CONFIG = os.path.join(repo_root, \"data\", \"config.yaml\")\n",
    "CSV    = os.path.join(repo_root, \"data\", \"day01_prices_weather.csv\")\n",
    "\n",
    "print(\"Repo root:\", repo_root)\n",
    "print(\"Config:\", CONFIG)\n",
    "print(\"CSV:\", CSV)"
   ]
  },
  {
   "cell_type": "code",
   "execution_count": null,
   "id": "78e87680",
   "metadata": {},
   "outputs": [
    {
     "ename": "ModuleNotFoundError",
     "evalue": "No module named 'thermal_toy.simulation'",
     "output_type": "error",
     "traceback": [
      "\u001b[31m---------------------------------------------------------------------------\u001b[39m",
      "\u001b[31mModuleNotFoundError\u001b[39m                       Traceback (most recent call last)",
      "\u001b[36mCell\u001b[39m\u001b[36m \u001b[39m\u001b[32mIn[2]\u001b[39m\u001b[32m, line 2\u001b[39m\n\u001b[32m      1\u001b[39m \u001b[38;5;66;03m# Cell 2 — run the constant-action simulation (no ANSI prints)\u001b[39;00m\n\u001b[32m----> \u001b[39m\u001b[32m2\u001b[39m \u001b[38;5;28;01mfrom\u001b[39;00m\u001b[38;5;250m \u001b[39m\u001b[34;01mthermal_toy\u001b[39;00m\u001b[34;01m.\u001b[39;00m\u001b[34;01msimulation\u001b[39;00m\u001b[38;5;250m \u001b[39m\u001b[38;5;28;01mimport\u001b[39;00m run_simulation\n\u001b[32m      4\u001b[39m CONFIG = os.path.join(repo_root, \u001b[33m\"\u001b[39m\u001b[33mdata\u001b[39m\u001b[33m\"\u001b[39m, \u001b[33m\"\u001b[39m\u001b[33mconfig.yaml\u001b[39m\u001b[33m\"\u001b[39m)\n\u001b[32m      5\u001b[39m CSV    = os.path.join(repo_root, \u001b[33m\"\u001b[39m\u001b[33mdata\u001b[39m\u001b[33m\"\u001b[39m, \u001b[33m\"\u001b[39m\u001b[33mday01_prices_weather.csv\u001b[39m\u001b[33m\"\u001b[39m)\n",
      "\u001b[31mModuleNotFoundError\u001b[39m: No module named 'thermal_toy.simulation'"
     ]
    }
   ],
   "source": [
    "# Cell 2 — run the constant-action simulation (no ANSI prints)\n",
    "from thermal_toy.simulation import run_simulation\n",
    "\n",
    "\n",
    "\n",
    "df = run_simulation(CONFIG, CSV, action_frac=0.5, ansi=False)\n",
    "df.head()\n"
   ]
  }
 ],
 "metadata": {
  "kernelspec": {
   "display_name": ".venv",
   "language": "python",
   "name": "python3"
  },
  "language_info": {
   "codemirror_mode": {
    "name": "ipython",
    "version": 3
   },
   "file_extension": ".py",
   "mimetype": "text/x-python",
   "name": "python",
   "nbconvert_exporter": "python",
   "pygments_lexer": "ipython3",
   "version": "3.12.8"
  }
 },
 "nbformat": 4,
 "nbformat_minor": 5
}
